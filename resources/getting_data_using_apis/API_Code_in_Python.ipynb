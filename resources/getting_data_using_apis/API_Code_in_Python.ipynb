{
 "cells": [
  {
   "cell_type": "markdown",
   "metadata": {},
   "source": [
    "**API Integration in Python**\n",
    "\n",
    "I personally like using Python over R for API integrations. The `requests` module is very well documented and the returned object has more options for viewing the results than in R. Additionally, Python handles JSON object much better than R since it has `dict` data types and R does not. JSON objects are very commonly used when sending and receiving data with APIs so having built-in `dict` datatypes, which are the same format as JSON objects, is extremely useful. "
   ]
  },
  {
   "cell_type": "markdown",
   "metadata": {},
   "source": [
    "**The Github Job Posting Example**\n",
    "\n",
    "Here is the code to make the same request in Python using the `requests` module. "
   ]
  },
  {
   "cell_type": "markdown",
   "metadata": {},
   "source": [
    "import packages:"
   ]
  },
  {
   "cell_type": "code",
   "execution_count": 1,
   "metadata": {},
   "outputs": [],
   "source": [
    "import requests\n",
    "import base64\n",
    "import pandas as pd"
   ]
  },
  {
   "cell_type": "code",
   "execution_count": 2,
   "metadata": {},
   "outputs": [],
   "source": [
    "response = requests.get(\"https://jobs.github.com/positions.json?description=api\")"
   ]
  },
  {
   "cell_type": "markdown",
   "metadata": {},
   "source": [
    "In Python, the response object returns the response and status code. We have a code 200, so the retrieval was a success."
   ]
  },
  {
   "cell_type": "code",
   "execution_count": 3,
   "metadata": {
    "scrolled": true
   },
   "outputs": [
    {
     "data": {
      "text/plain": [
       "<Response [200]>"
      ]
     },
     "execution_count": 3,
     "metadata": {},
     "output_type": "execute_result"
    }
   ],
   "source": [
    "response"
   ]
  },
  {
   "cell_type": "markdown",
   "metadata": {},
   "source": [
    "The `requests` package has more options than the `httr` package in R. Since we have a code 200, we are ready to look at the content of the returned data. Requests returns the data in JSON (`response.json()`), text (`response.text`), or raw format (`response.content`). Having multiple options of datatype output is useful depending on how you want to use the data. Python's `dict` objects read JSON well so I will save the response content as a json object."
   ]
  },
  {
   "cell_type": "code",
   "execution_count": 4,
   "metadata": {},
   "outputs": [],
   "source": [
    "json_data = response.json()"
   ]
  },
  {
   "cell_type": "markdown",
   "metadata": {},
   "source": [
    "Below is an example of how a `dict` and JSON object are structured. It is in the form of key and value pairs. For exampe, the key is `id` and the value is `b1008413-2d80-49cf-be28-f784d3978788`. This is the job ID for first job posting I printed below. In the second line, the key is `type` and the value is `Full Time`. This means that the job type for this first job posting is full time. Each value in this dataset has these keys and values."
   ]
  },
  {
   "cell_type": "code",
   "execution_count": 27,
   "metadata": {},
   "outputs": [
    {
     "data": {
      "text/plain": [
       "{'id': 'b1008413-2d80-49cf-be28-f784d3978788',\n",
       " 'type': 'Full Time',\n",
       " 'url': 'https://jobs.github.com/positions/b1008413-2d80-49cf-be28-f784d3978788',\n",
       " 'created_at': 'Mon Mar 08 15:13:54 UTC 2021',\n",
       " 'company': 'SovTech',\n",
       " 'company_url': 'https://ltpx.nl/lubbp4y',\n",
       " 'location': 'Johannesburg',\n",
       " 'title': 'Javascript Software Engineer',\n",
       " 'description': '<p><strong>Javascript Software Engineer</strong></p>\\n<p>At SovTech we design, build, deploy and maintain innovative custom software that gives our clients the opportunity to start, run and grow world class businesses We are currently on the lookout for Software Engineers to join our team on a variety of projects that are kicking off over the next few months. Our teams are rapidly growing and we are looking for Developers that are passionate about building software for our World class clients. Firstly...We LOVE Javascript.</p>\\n<p><strong>Job requirements</strong>\\nWe are looking for Javascript Developers at ALL levels in all regions. Our head quarters are in Johannesburg, South Africa.\\xa0</p>\\n<p>We have\\xa0Guilds situated\\xa0in Cape Town, Johannesburg &amp; London.</p>\\n<p>If you have experience working with ReactJS, React Native, Nodejs, Typescript &amp; AWS specifically, you might be what we have been searching for!\\xa0 Our Technology Stack,\\xa0We build almost everything on the Serverless framework with AWS behind the scenes. We love React on the front, web and mobile.\\xa0</p>\\n<p>SovTech Tech Stack:\\xa0\\n<strong>Backend:</strong></p>\\n<ul>\\n<li>GraphQL</li>\\n<li>REST</li>\\n<li>NodeJS</li>\\n</ul>\\n<p><strong>Frontend:</strong></p>\\n<ul>\\n<li>ReactJS</li>\\n<li>React Native</li>\\n<li>Typescript</li>\\n<li>CSS-in-JS (Styled Components)</li>\\n<li>Tests first</li>\\n</ul>\\n<p><strong>Cloud Services:</strong>\\nNumerous AWS services:</p>\\n<ul>\\n<li>AppSync</li>\\n<li>Cloudfront</li>\\n<li>CloudWatch</li>\\n<li>Cognito</li>\\n<li>Lambda</li>\\n<li>DynamoDB</li>\\n<li>S3</li>\\n<li>SES</li>\\n<li>SNS</li>\\n<li>SQS</li>\\n</ul>\\n<p>And many more!</p>\\n<p><strong>Other notable tech things</strong></p>\\n<ul>\\n<li>Bitbucket + JIRA + Slack</li>\\n<li>Git-Flow</li>\\n<li>Monorepo approach</li>\\n<li>AWS CDK</li>\\n<li>Serverless framework</li>\\n<li>Docker + Docker-Compose</li>\\n<li>Create React App</li>\\n<li>Industry best practices + standards</li>\\n</ul>\\n<p><strong>What cool things do we offer at SovTech?</strong></p>\\n<ul>\\n<li>Annual full-company X-mas retreat</li>\\n<li>Dev chats every Friday with a beer or dial in from where ever you are based in the world</li>\\n<li>Do you enjoy Soccer? Join our SovTech Stars Soccerclub</li>\\n<li>Do you enjoy running? Join our SovTech running Club</li>\\n<li>Slack channels like #Memes, #Geekingitup, #10o’clockrock, #AmazingDesigns #HumansofSovTech that connects you to our network of awesome people</li>\\n<li>Hatch (Annual company-wide hackathon)</li>\\n<li>Annual FoosFestival with our very own Minister of Foosball</li>\\n<li>Our own currency(Stacos) - 50 Stacos is given to each employee every month by the company to spend on rewarding and recognising your colleagues, Stacos are redeemable for a variety of online shopping vouchers</li>\\n</ul>\\n<p><strong>Remote vs On-site</strong>\\nWe believe in teams. Our teams are often distributed but everybody has a home base. We call it a Guild. At present, you must be in Johannesburg, London, or Cape Town. How else do we have a beer on a Friday together? But yes you can also work from home when you want. Is this you? Join us! Apply via the\\xa0<strong>application button</strong>.</p>\\n<p><em>Agency calls are not appreciated.</em></p>\\n',\n",
       " 'how_to_apply': '<p><a href=\"https://ltpx.nl/zhMQLcU\">Click to apply</a></p>\\n',\n",
       " 'company_logo': 'https://jobs.github.com/rails/active_storage/blobs/eyJfcmFpbHMiOnsibWVzc2FnZSI6IkJBaHBBcmViIiwiZXhwIjpudWxsLCJwdXIiOiJibG9iX2lkIn19--a861f5844a9014b5488296389351c9eebdae258f/sovtech_logo-2.png'}"
      ]
     },
     "execution_count": 27,
     "metadata": {},
     "output_type": "execute_result"
    }
   ],
   "source": [
    "json_data[3]"
   ]
  },
  {
   "cell_type": "markdown",
   "metadata": {},
   "source": [
    "The reason these `dict` structured data are so convenient in Python is because `Pandas` (and other modules) can easily convert them into dataframes. Each key becomes a column name and the values for the keys form a row for 1 entry. Below I printed the same job posting as above. We can see how the keys and values fall into columns and rows."
   ]
  },
  {
   "cell_type": "code",
   "execution_count": 29,
   "metadata": {},
   "outputs": [
    {
     "data": {
      "text/html": [
       "<div>\n",
       "<style scoped>\n",
       "    .dataframe tbody tr th:only-of-type {\n",
       "        vertical-align: middle;\n",
       "    }\n",
       "\n",
       "    .dataframe tbody tr th {\n",
       "        vertical-align: top;\n",
       "    }\n",
       "\n",
       "    .dataframe thead th {\n",
       "        text-align: right;\n",
       "    }\n",
       "</style>\n",
       "<table border=\"1\" class=\"dataframe\">\n",
       "  <thead>\n",
       "    <tr style=\"text-align: right;\">\n",
       "      <th></th>\n",
       "      <th>id</th>\n",
       "      <th>type</th>\n",
       "      <th>url</th>\n",
       "      <th>created_at</th>\n",
       "      <th>company</th>\n",
       "      <th>company_url</th>\n",
       "      <th>location</th>\n",
       "      <th>title</th>\n",
       "      <th>description</th>\n",
       "      <th>how_to_apply</th>\n",
       "      <th>company_logo</th>\n",
       "    </tr>\n",
       "  </thead>\n",
       "  <tbody>\n",
       "    <tr>\n",
       "      <th>3</th>\n",
       "      <td>b1008413-2d80-49cf-be28-f784d3978788</td>\n",
       "      <td>Full Time</td>\n",
       "      <td>https://jobs.github.com/positions/b1008413-2d8...</td>\n",
       "      <td>Mon Mar 08 15:13:54 UTC 2021</td>\n",
       "      <td>SovTech</td>\n",
       "      <td>https://ltpx.nl/lubbp4y</td>\n",
       "      <td>Johannesburg</td>\n",
       "      <td>Javascript Software Engineer</td>\n",
       "      <td>&lt;p&gt;&lt;strong&gt;Javascript Software Engineer&lt;/stron...</td>\n",
       "      <td>&lt;p&gt;&lt;a href=\"https://ltpx.nl/zhMQLcU\"&gt;Click to ...</td>\n",
       "      <td>https://jobs.github.com/rails/active_storage/b...</td>\n",
       "    </tr>\n",
       "  </tbody>\n",
       "</table>\n",
       "</div>"
      ],
      "text/plain": [
       "                                     id       type  \\\n",
       "3  b1008413-2d80-49cf-be28-f784d3978788  Full Time   \n",
       "\n",
       "                                                 url  \\\n",
       "3  https://jobs.github.com/positions/b1008413-2d8...   \n",
       "\n",
       "                     created_at  company              company_url  \\\n",
       "3  Mon Mar 08 15:13:54 UTC 2021  SovTech  https://ltpx.nl/lubbp4y   \n",
       "\n",
       "       location                         title  \\\n",
       "3  Johannesburg  Javascript Software Engineer   \n",
       "\n",
       "                                         description  \\\n",
       "3  <p><strong>Javascript Software Engineer</stron...   \n",
       "\n",
       "                                        how_to_apply  \\\n",
       "3  <p><a href=\"https://ltpx.nl/zhMQLcU\">Click to ...   \n",
       "\n",
       "                                        company_logo  \n",
       "3  https://jobs.github.com/rails/active_storage/b...  "
      ]
     },
     "execution_count": 29,
     "metadata": {},
     "output_type": "execute_result"
    }
   ],
   "source": [
    "jobs_df = pd.DataFrame(json_data)\n",
    "jobs_df[3:4]"
   ]
  },
  {
   "cell_type": "markdown",
   "metadata": {},
   "source": [
    "**A more advanced example in Python using the Spotify API and access tokens**\n",
    "\n",
    "For this example, we will use the Spotify Web API. I picked this API because it is easy to access (anyone with a Spotify account can get an access token) and the API resources and authorization flow are well documented. It also has a TON of interesting data - **potential final project data source!**\n",
    "\n",
    "\n",
    "Information on the data available and how to retrieve it via the API is found here:\n",
    "https://developer.spotify.com/documentation/web-api/reference/#reference-index"
   ]
  },
  {
   "cell_type": "markdown",
   "metadata": {},
   "source": [
    "This example differs from the last as we now need to send additional data with our request, our authorization credentials. Authorization information is found here: https://developer.spotify.com/documentation/general/guides/authorization-guide/ \n",
    "\n",
    "We see in the documentation that we need to first create and store an access token from the API using the `POST` method. Once we create an access token we will use it in our `GET` request to get the data. We have to send our client_id and client_secret with the request in order to create an access token. The docs say that it has to be in the format `<base64 encoded client_id:client_secret>`.\n",
    "\n",
    "The client id and client secret are given to you when creating an application account at https://developer.spotify.com/dashboard/login\n",
    "\n",
    "*Note that I redacted my keys from the code so that they cannot be re-used*"
   ]
  },
  {
   "cell_type": "code",
   "execution_count": 8,
   "metadata": {},
   "outputs": [],
   "source": [
    "secret_bytes = bytes(('{}:{}'.format(REDACTED_CLIENT_ID, REDACTED_CLIENT_SECRET)),'utf-8')\n",
    "secret_enc = base64.b64encode(secret_bytes).decode('utf-8')"
   ]
  },
  {
   "cell_type": "markdown",
   "metadata": {},
   "source": [
    "Now that we have encrypted our id and secret, we can build the `POST` request function `requests.post()`. The requests function takes the arguments `url` of the API endpoint, `headers` which contain more information about the resource to be fetched or, in this case, about the client requesting the resource, and `data` which also contains more information to send along with the request. In the `requests` module, the `headers` and `data` are sent in `dict` format (another reason why the built-in `dict` datatype makes requests so easy in Python).\n",
    "\n",
    "`requests.post()` returns a response object that we will store into the variable `response_post`."
   ]
  },
  {
   "cell_type": "code",
   "execution_count": 9,
   "metadata": {},
   "outputs": [],
   "source": [
    "data = {'grant_type': 'client_credentials'}\n",
    "headers = {'Authorization': 'Basic {}'.format(secret_enc)}\n",
    "url = 'https://accounts.spotify.com/api/token'\n",
    "response_post = requests.post(url, headers=headers, data=data)"
   ]
  },
  {
   "cell_type": "markdown",
   "metadata": {},
   "source": [
    "***Building the request can be confusing - here is a cool cheat***\n",
    "\n",
    "Sometimes it is difficult to figure out how to build the `request` function, what goes into `headers` and `data` arguments, etc.\n",
    "\n",
    "Often times, well-documented APIs will have examples of the `cURL` requested function to use to make the request you want. `cURL` is the base language that makes the requests; packages and modules like `httr` in `R` and `requests` in `Python` basically make `cURL` accessible in these languages. Other packages for other languages are available as well.\n",
    "\n",
    "*find the `cURL` command:* \n",
    "\n",
    "The Spotify documentation lists a `cURL` sample command, it is: `curl -X \"POST\" -H \"Authorization: Basic ZjM4ZjAw...WY0MzE=\" -d grant_type=client_credentials https://accounts.spotify.com/api/token`\n",
    "It'll start with `curl` so you can do a CMD+F\n",
    "\n",
    "*insert the command into this `cURL` converter:* \n",
    "\n",
    "https://onlinedevtools.in/curl \n",
    "\n",
    "Copy, paste, and select the language you want the output command to be. The output returns what to put into `data` and `header` arguments and how to run the `requests.post()` command - is the same as our code above. *but note that you have to enter your encrypted client ID and secret - do not copy the example ones as they are not valid.*"
   ]
  },
  {
   "cell_type": "markdown",
   "metadata": {},
   "source": [
    "We should check that our request was successful and we receieved a `status_code = 200`, then we can save our access token in the variable `tk`. The token is stored in the content of the response."
   ]
  },
  {
   "cell_type": "code",
   "execution_count": 10,
   "metadata": {},
   "outputs": [],
   "source": [
    "if response_post.status_code == 200:\n",
    "    tk = response_post.json()['access_token']\n",
    "else:\n",
    "    print('Something went wrong, status_code = {}'.format(response_post.status_code))"
   ]
  },
  {
   "cell_type": "markdown",
   "metadata": {},
   "source": [
    "Now we can build our `GET` request to retrieve the Spotify data. There is a lot of data that we can get from the Spotify API (can read more about the data available here: https://developer.spotify.com/documentation/web-api/reference/#reference-index). \n",
    "\n",
    "I want to get information on audio features of some songs. More information on getting audio features for tracks here: https://developer.spotify.com/documentation/web-api/reference/#endpoint-get-several-audio-features\n",
    "\n",
    "\n",
    "From the documentation, we see that we need to send our access token and Spotify track IDs of the songs that we want features on with our request. We have our access token from our `POST` request above. We read in the docs that each Spotify song has an ID associated with it, these are easily found on the Spotify app or web player (can google how to find the Spotify ID for a song).\n",
    "\n",
    "The Spotify documentation provides an example of a `cURL` `GET` request for getting audio features. We can use it to create our `requests.get()` function by inserting it into the `cURL` converter explained above (https://onlinedevtools.in/curl).\n",
    "\n",
    "*sample `cURL` request from Spotify documentation on getting audio features:*\n",
    "\n",
    "`curl -X \"GET\" \"https://api.spotify.com/v1/audio-features?ids=4JpKVNYnVcJ8tuMKjAj50A%2C24JygzOLM0EmRQeGtFcIcG\" -H \"Accept: application/json\" -H \"Content-Type: application/json\" -H \"Authorization: Bearer ACCESS_TOKEN\"`\n",
    "\n",
    "To create the `requests.get()` fuction I will use some Spotify IDs from songs that I previously got via the Spotify API. We will also need our access token we got from our `POST` request and stored into `tk` above. I will store the `GET` response in the variable `response_get`."
   ]
  },
  {
   "cell_type": "code",
   "execution_count": 11,
   "metadata": {},
   "outputs": [],
   "source": [
    "# data I collected from the Spotify API previously and stored into a dict\n",
    "# 'ID' = Spotify song ID \n",
    "# 'name' = song name\n",
    "# 'artist' = song artist\n",
    "songs = [\n",
    "    {'id':'3HAgxyWGeJtIVabS2mTREt',\n",
    "     'name':'Vagabond',\n",
    "     'artist':'Caamp'\n",
    "    },\n",
    "    {'id':'75nZ4W6quZhI55LKiqCXWh',\n",
    "     'name':'By and By',\n",
    "     'artist':'Caamp'\n",
    "    },\n",
    "    {'id':'6255IIBwKySv6RYrOeHfQh',\n",
    "     'name':'All the Debts I Owe',\n",
    "     'artist':'Caamp'\n",
    "    },\n",
    "    {'id':'4KhBvLbRr58rHPF24bdL9Q',\n",
    "     'name':'Officer of Love',\n",
    "     'artist':'Caamp'\n",
    "    },\n",
    "    {'id':'0ESvfrHfNuAtkZp8SMJBOY',\n",
    "     'name':'Strawberries',\n",
    "     'artist':'Caamp'\n",
    "    },\n",
    "    {'id':'2pfAvgMoHLfialvMYn337d',\n",
    "     'name':'No Sleep',\n",
    "     'artist':'Caamp'\n",
    "    },\n",
    "    {'id':'2m9ryxnEcVoQNr22KRxe09',\n",
    "     'name':'Channel 43',\n",
    "     'artist':'Deadmau5'\n",
    "    },\n",
    "    {'id':'4ua0IepBEISCWwF8dTJvcU',\n",
    "     'name':'Ghosts n Stuff',\n",
    "     'artist':'Deadmau5'\n",
    "    },\n",
    "    {'id':'2nLgWMdYPO35GGpwX2xo23',\n",
    "     'name':'Monophobia',\n",
    "     'artist':'Deadmau5'\n",
    "    },\n",
    "    {'id':'5cr1Daz7Kv03CNb51I18sy',\n",
    "     'name':'Arguru 2k19\"',\n",
    "     'artist':'Deadmau5'\n",
    "    },\n",
    "    {'id':'7oPqRSubaWcDb5F68aw3P6',\n",
    "     'name':'The Veldt',\n",
    "     'artist':'Deadmau5'\n",
    "    },\n",
    "    {'id':'5emTyRnoMTLc9G44RR6XIE',\n",
    "     'name':'Bridged By A Lightwave',\n",
    "     'artist':'Deadmau5'\n",
    "    }\n",
    "]"
   ]
  },
  {
   "cell_type": "code",
   "execution_count": 12,
   "metadata": {},
   "outputs": [],
   "source": [
    "# get only ids from data above\n",
    "ids = []\n",
    "for i in range(0,len(songs)):\n",
    "    ids.append(songs[i]['id'])"
   ]
  },
  {
   "cell_type": "code",
   "execution_count": 13,
   "metadata": {},
   "outputs": [],
   "source": [
    "# format the IDs for the request function ('ID,ID,ID')\n",
    "ids_fmt = ','.join([str(x) for x in ids])"
   ]
  },
  {
   "cell_type": "code",
   "execution_count": 14,
   "metadata": {},
   "outputs": [],
   "source": [
    "# make request code\n",
    "headers = {\n",
    "    'Accept': 'application/json',\n",
    "    'Content-Type': 'application/json',\n",
    "    'Authorization': 'Bearer {}'.format(tk),\n",
    "}\n",
    "\n",
    "params = (\n",
    "    ('ids', ids_fmt),\n",
    ")\n",
    "\n",
    "response_get = requests.get('https://api.spotify.com/v1/audio-features', headers=headers, params=params)"
   ]
  },
  {
   "cell_type": "markdown",
   "metadata": {},
   "source": [
    "Let's make sure we got a successful `status_code` and then store the JSON data into `audio_features`."
   ]
  },
  {
   "cell_type": "code",
   "execution_count": 15,
   "metadata": {},
   "outputs": [],
   "source": [
    "if response_get.status_code == 200:\n",
    "    audio_features = response_get.json()['audio_features']\n",
    "else:\n",
    "    print('Something went wrong, status_code = {}'.format(response_get.status_code))"
   ]
  },
  {
   "cell_type": "markdown",
   "metadata": {},
   "source": [
    "We can run `response_get.url` to see the url we formed in our request. We see that it is the same format as the `cURL` in the example request where the IDs are separated by `%` signs."
   ]
  },
  {
   "cell_type": "code",
   "execution_count": 16,
   "metadata": {},
   "outputs": [
    {
     "data": {
      "text/plain": [
       "'https://api.spotify.com/v1/audio-features?ids=3HAgxyWGeJtIVabS2mTREt%2C75nZ4W6quZhI55LKiqCXWh%2C6255IIBwKySv6RYrOeHfQh%2C4KhBvLbRr58rHPF24bdL9Q%2C0ESvfrHfNuAtkZp8SMJBOY%2C2pfAvgMoHLfialvMYn337d%2C2m9ryxnEcVoQNr22KRxe09%2C4ua0IepBEISCWwF8dTJvcU%2C2nLgWMdYPO35GGpwX2xo23%2C5cr1Daz7Kv03CNb51I18sy%2C7oPqRSubaWcDb5F68aw3P6%2C5emTyRnoMTLc9G44RR6XIE'"
      ]
     },
     "execution_count": 16,
     "metadata": {},
     "output_type": "execute_result"
    }
   ],
   "source": [
    "response_get.url"
   ]
  },
  {
   "cell_type": "code",
   "execution_count": 17,
   "metadata": {},
   "outputs": [],
   "source": [
    "audio_features_df = []\n",
    "audio_features_rows = [i for i in audio_features if i]\n",
    "for row in audio_features_rows:\n",
    "    audio_features_df.append(row)\n",
    "\n",
    "audio_features_df = pd.DataFrame(audio_features_df)"
   ]
  },
  {
   "cell_type": "markdown",
   "metadata": {},
   "source": [
    "Here's what our data looks like:"
   ]
  },
  {
   "cell_type": "code",
   "execution_count": 18,
   "metadata": {},
   "outputs": [
    {
     "data": {
      "text/html": [
       "<div>\n",
       "<style scoped>\n",
       "    .dataframe tbody tr th:only-of-type {\n",
       "        vertical-align: middle;\n",
       "    }\n",
       "\n",
       "    .dataframe tbody tr th {\n",
       "        vertical-align: top;\n",
       "    }\n",
       "\n",
       "    .dataframe thead th {\n",
       "        text-align: right;\n",
       "    }\n",
       "</style>\n",
       "<table border=\"1\" class=\"dataframe\">\n",
       "  <thead>\n",
       "    <tr style=\"text-align: right;\">\n",
       "      <th></th>\n",
       "      <th>danceability</th>\n",
       "      <th>energy</th>\n",
       "      <th>key</th>\n",
       "      <th>loudness</th>\n",
       "      <th>mode</th>\n",
       "      <th>speechiness</th>\n",
       "      <th>acousticness</th>\n",
       "      <th>instrumentalness</th>\n",
       "      <th>liveness</th>\n",
       "      <th>valence</th>\n",
       "      <th>tempo</th>\n",
       "      <th>type</th>\n",
       "      <th>id</th>\n",
       "      <th>uri</th>\n",
       "      <th>track_href</th>\n",
       "      <th>analysis_url</th>\n",
       "      <th>duration_ms</th>\n",
       "      <th>time_signature</th>\n",
       "    </tr>\n",
       "  </thead>\n",
       "  <tbody>\n",
       "    <tr>\n",
       "      <th>0</th>\n",
       "      <td>0.571</td>\n",
       "      <td>0.399</td>\n",
       "      <td>4</td>\n",
       "      <td>-11.919</td>\n",
       "      <td>1</td>\n",
       "      <td>0.0364</td>\n",
       "      <td>0.766</td>\n",
       "      <td>0.014600</td>\n",
       "      <td>0.0926</td>\n",
       "      <td>0.611</td>\n",
       "      <td>141.922</td>\n",
       "      <td>audio_features</td>\n",
       "      <td>3HAgxyWGeJtIVabS2mTREt</td>\n",
       "      <td>spotify:track:3HAgxyWGeJtIVabS2mTREt</td>\n",
       "      <td>https://api.spotify.com/v1/tracks/3HAgxyWGeJtI...</td>\n",
       "      <td>https://api.spotify.com/v1/audio-analysis/3HAg...</td>\n",
       "      <td>129464</td>\n",
       "      <td>4</td>\n",
       "    </tr>\n",
       "    <tr>\n",
       "      <th>1</th>\n",
       "      <td>0.584</td>\n",
       "      <td>0.474</td>\n",
       "      <td>9</td>\n",
       "      <td>-7.981</td>\n",
       "      <td>1</td>\n",
       "      <td>0.0258</td>\n",
       "      <td>0.796</td>\n",
       "      <td>0.000003</td>\n",
       "      <td>0.1150</td>\n",
       "      <td>0.332</td>\n",
       "      <td>101.457</td>\n",
       "      <td>audio_features</td>\n",
       "      <td>75nZ4W6quZhI55LKiqCXWh</td>\n",
       "      <td>spotify:track:75nZ4W6quZhI55LKiqCXWh</td>\n",
       "      <td>https://api.spotify.com/v1/tracks/75nZ4W6quZhI...</td>\n",
       "      <td>https://api.spotify.com/v1/audio-analysis/75nZ...</td>\n",
       "      <td>280795</td>\n",
       "      <td>4</td>\n",
       "    </tr>\n",
       "    <tr>\n",
       "      <th>2</th>\n",
       "      <td>0.483</td>\n",
       "      <td>0.486</td>\n",
       "      <td>0</td>\n",
       "      <td>-11.062</td>\n",
       "      <td>1</td>\n",
       "      <td>0.0434</td>\n",
       "      <td>0.753</td>\n",
       "      <td>0.004790</td>\n",
       "      <td>0.1340</td>\n",
       "      <td>0.466</td>\n",
       "      <td>92.048</td>\n",
       "      <td>audio_features</td>\n",
       "      <td>6255IIBwKySv6RYrOeHfQh</td>\n",
       "      <td>spotify:track:6255IIBwKySv6RYrOeHfQh</td>\n",
       "      <td>https://api.spotify.com/v1/tracks/6255IIBwKySv...</td>\n",
       "      <td>https://api.spotify.com/v1/audio-analysis/6255...</td>\n",
       "      <td>193049</td>\n",
       "      <td>4</td>\n",
       "    </tr>\n",
       "  </tbody>\n",
       "</table>\n",
       "</div>"
      ],
      "text/plain": [
       "   danceability  energy  key  loudness  mode  speechiness  acousticness  \\\n",
       "0         0.571   0.399    4   -11.919     1       0.0364         0.766   \n",
       "1         0.584   0.474    9    -7.981     1       0.0258         0.796   \n",
       "2         0.483   0.486    0   -11.062     1       0.0434         0.753   \n",
       "\n",
       "   instrumentalness  liveness  valence    tempo            type  \\\n",
       "0          0.014600    0.0926    0.611  141.922  audio_features   \n",
       "1          0.000003    0.1150    0.332  101.457  audio_features   \n",
       "2          0.004790    0.1340    0.466   92.048  audio_features   \n",
       "\n",
       "                       id                                   uri  \\\n",
       "0  3HAgxyWGeJtIVabS2mTREt  spotify:track:3HAgxyWGeJtIVabS2mTREt   \n",
       "1  75nZ4W6quZhI55LKiqCXWh  spotify:track:75nZ4W6quZhI55LKiqCXWh   \n",
       "2  6255IIBwKySv6RYrOeHfQh  spotify:track:6255IIBwKySv6RYrOeHfQh   \n",
       "\n",
       "                                          track_href  \\\n",
       "0  https://api.spotify.com/v1/tracks/3HAgxyWGeJtI...   \n",
       "1  https://api.spotify.com/v1/tracks/75nZ4W6quZhI...   \n",
       "2  https://api.spotify.com/v1/tracks/6255IIBwKySv...   \n",
       "\n",
       "                                        analysis_url  duration_ms  \\\n",
       "0  https://api.spotify.com/v1/audio-analysis/3HAg...       129464   \n",
       "1  https://api.spotify.com/v1/audio-analysis/75nZ...       280795   \n",
       "2  https://api.spotify.com/v1/audio-analysis/6255...       193049   \n",
       "\n",
       "   time_signature  \n",
       "0               4  \n",
       "1               4  \n",
       "2               4  "
      ]
     },
     "execution_count": 18,
     "metadata": {},
     "output_type": "execute_result"
    }
   ],
   "source": [
    "audio_features_df[:3]"
   ]
  },
  {
   "cell_type": "markdown",
   "metadata": {},
   "source": [
    "The columns are:"
   ]
  },
  {
   "cell_type": "code",
   "execution_count": 19,
   "metadata": {},
   "outputs": [
    {
     "data": {
      "text/plain": [
       "['danceability',\n",
       " 'energy',\n",
       " 'key',\n",
       " 'loudness',\n",
       " 'mode',\n",
       " 'speechiness',\n",
       " 'acousticness',\n",
       " 'instrumentalness',\n",
       " 'liveness',\n",
       " 'valence',\n",
       " 'tempo',\n",
       " 'type',\n",
       " 'id',\n",
       " 'uri',\n",
       " 'track_href',\n",
       " 'analysis_url',\n",
       " 'duration_ms',\n",
       " 'time_signature']"
      ]
     },
     "execution_count": 19,
     "metadata": {},
     "output_type": "execute_result"
    }
   ],
   "source": [
    "list(audio_features_df.columns)"
   ]
  },
  {
   "cell_type": "markdown",
   "metadata": {},
   "source": [
    "Details on what these numbers mean and how they are calculated are all found on Spotify's API documentation here: https://developer.spotify.com/documentation/web-api/reference/#endpoint-get-several-audio-features\n",
    "\n",
    "Now we can plot some cool things with the data we recieved from the Spotify API. Let's first join in the initial data so we can have the artist and song name in the dataframe."
   ]
  },
  {
   "cell_type": "code",
   "execution_count": 20,
   "metadata": {},
   "outputs": [],
   "source": [
    "songs_df = pd.DataFrame(songs)"
   ]
  },
  {
   "cell_type": "code",
   "execution_count": 21,
   "metadata": {},
   "outputs": [],
   "source": [
    "song_audio_features = pd.merge(\n",
    "    audio_features_df,\n",
    "    songs_df,\n",
    "    on = ['id']\n",
    ")"
   ]
  },
  {
   "cell_type": "code",
   "execution_count": 23,
   "metadata": {},
   "outputs": [],
   "source": [
    "import seaborn as sns\n",
    "import matplotlib.pylab as plt"
   ]
  },
  {
   "cell_type": "markdown",
   "metadata": {},
   "source": [
    "Let's compare the average audio features of each artist across their songs. For some context, Caamp is an acoustic chill band and Deadmau5 is an electronic band."
   ]
  },
  {
   "cell_type": "code",
   "execution_count": 24,
   "metadata": {},
   "outputs": [],
   "source": [
    "grouped_artist = song_audio_features.groupby(by=['artist']).mean()"
   ]
  },
  {
   "cell_type": "code",
   "execution_count": 25,
   "metadata": {},
   "outputs": [
    {
     "data": {
      "image/png": "[encoded data removed]",
      "text/plain": [
       "<Figure size 864x432 with 2 Axes>"
      ]
     },
     "metadata": {
      "needs_background": "light"
     },
     "output_type": "display_data"
    }
   ],
   "source": [
    "fig,ax = plt.subplots(1,2, figsize = (12,6));\n",
    "\n",
    "sns.barplot(\n",
    "    data = song_audio_features,\n",
    "    y = 'acousticness',\n",
    "    x = 'artist',\n",
    "    ax = ax[0],\n",
    "    ci = None\n",
    ");\n",
    "ax[0].set_title('Acousticness');\n",
    "\n",
    "sns.barplot(\n",
    "    data = song_audio_features,\n",
    "    y = 'energy',\n",
    "    x = 'artist',\n",
    "    ax = ax[1],\n",
    "    ci = None\n",
    ");\n",
    "ax[1].set_title('Energy');"
   ]
  },
  {
   "cell_type": "markdown",
   "metadata": {},
   "source": [
    "Caamp's music is much more acoustic, as expected. Whereas Deadmau5's music has much more energy."
   ]
  }
 ],
 "metadata": {
  "kernelspec": {
   "display_name": "Python 3",
   "language": "python",
   "name": "python3"
  },
  "language_info": {
   "codemirror_mode": {
    "name": "ipython",
    "version": 3
   },
   "file_extension": ".py",
   "mimetype": "text/x-python",
   "name": "python",
   "nbconvert_exporter": "python",
   "pygments_lexer": "ipython3",
   "version": "3.8.5"
  }
 },
 "nbformat": 4,
 "nbformat_minor": 4
}
